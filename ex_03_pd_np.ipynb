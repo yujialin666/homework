
Code


Python 3 (ipykernel)
##numpy

import numpy as np
np.array([1,2,3,4,5,6,7])
np.zeros((4,2))
array([[0., 0.],
       [0., 0.],
       [0., 0.],
       [0., 0.]])
np.ones((5,3))
array([[1., 1., 1.],
       [1., 1., 1.],
       [1., 1., 1.],
       [1., 1., 1.],
       [1., 1., 1.]])
np.arange(4,8)
array([4, 5, 6, 7])
np.linspace(1,2,4)
array([1.        , 1.33333333, 1.66666667, 2.        ])
np.random.rand(4,7)
array([[0.9257019 , 0.74141284, 0.84001597, 0.03471152, 0.62389751,
        0.63326669, 0.05353445],
       [0.6648802 , 0.91455999, 0.18032486, 0.25763985, 0.81046604,
        0.06505051, 0.51107717],
       [0.90205512, 0.50583333, 0.52808521, 0.48471934, 0.49655219,
        0.11384015, 0.2990422 ],
       [0.66281381, 0.76970243, 0.10532087, 0.62314156, 0.58500636,
        0.1247478 , 0.48427241]])
a = np.zeros((4,3))
b = a.astype(int)
b
array([[0, 0, 0],
       [0, 0, 0],
       [0, 0, 0],
       [0, 0, 0]])
a=np.array([1,5,7])
b=np.array([2,3,6])
a+b
array([ 3,  8, 13])
a=np.array([1,5,7])
b=np.array([2,3,6])
a-b
array([-1,  2,  1])
a=np.array([1,5,7])
b=np.array([2,3,6])
a/b
array([0.5       , 1.66666667, 1.16666667])
a=np.array([1,5,7])
b=np.array([2,3,6])
np.dot(a,b)
59
a=np.array([[2,3],
            [5,6]])
b=np.array([[1,2],
            [2,3]])
a@b
array([[ 8, 13],
       [17, 28]])
a=np.array([1,5,9])
np.sqrt(a)
array([1.        , 2.23606798, 3.        ])
a=np.array([3,4,5])
np.sin(a)
array([ 0.14112001, -0.7568025 , -0.95892427])
a=np.array([3,4,5])
np.cos(a)
array([-0.9899925 , -0.65364362,  0.28366219])
a=np.array([1,100,10])
np.log(a)
array([0.        , 4.60517019, 2.30258509])
a=np.array([1,2,5])
np.power(a,2)
array([ 1,  4, 25], dtype=int32)
a=np.array([1,2,5])
a*6
array([ 6, 12, 30])
a=np.array([[2],
            [7]])
b=np.array([1,5,6])
a+b
array([[ 3,  7,  8],
       [ 8, 12, 13]])
a=np.array([1,2,3,4,5])
a.min()
1
a=np.array([1,2,3,4,5])
a.max()
5
a=np.array([1,2,3,4,5])
a.argmin()
0
a=np.array([1,2,3,4,5])
a.argmax()
4
a=np.array([1,2,3,4,5])
a.sum()
15
a=np.array([1,2,3,4,5])
a.mean()
3.0
a=np.array([1,2,3,4,5])
a.var()
2.0
a=np.array([1,2,3,4,5])
a.std()
1.4142135623730951
a=np.array([[2,3,4,5,6],
            [5,6,7,8,9]])
a.sum(axis=0)
array([ 7,  9, 11, 13, 15])
a=np.array([[2,3,4,5,6],
            [5,6,7,8,9]])
a.sum(axis=1)
array([20, 35])
a=np.arange(12)
a[a<5]
array([0, 1, 2, 3, 4])
a=np.arange(12)
a[(a>4)&(a%2==0)]
array([ 6,  8, 10])
a=np.array([[2,3,4,5,6],
            [5,6,7,8,9]])
a[0,0:2]
array([2, 3])
a=np.array([1,2,3,4,5])
a[0:5:2]
array([1, 3, 5])
a=np.array([1,2,3,4,5])
a[4:1:-2]
array([5, 3])
a=np.array([1,2,3,4,5])
a[::-1]
array([5, 4, 3, 2, 1])
##pandas

import pandas as pd
data = {'country':['apple','banana','cat'],
       'population':[10,110,145]}
df_data=pd.DataFrame(data)
df_data
country	population
0	apple	10
1	banana	110
2	cat	145
df_data.info()
<class 'pandas.core.frame.DataFrame'>
RangeIndex: 3 entries, 0 to 2
Data columns (total 2 columns):
 #   Column      Non-Null Count  Dtype 
---  ------      --------------  ----- 
 0   country     3 non-null      object
 1   population  3 non-null      int64 
dtypes: int64(1), object(1)
memory usage: 176.0+ bytes
df_data.head(2)
country	population
0	apple	10
1	banana	110
df_data.index
RangeIndex(start=0, stop=3, step=1)
df_data.columns
Index(['country', 'population'], dtype='object')
df_data.dtypes
country       object
population     int64
dtype: object
df_data.values
array([['apple', 10],
       ['banana', 110],
       ['cat', 145]], dtype=object)
df_data['population']
0     10
1    110
2    145
Name: population, dtype: int64
df_data[['population','country']]
population	country
0	10	apple
1	110	banana
2	145	cat
df_data.iloc(0)
<pandas.core.indexing._iLocIndexer at 0x26605a28220>
